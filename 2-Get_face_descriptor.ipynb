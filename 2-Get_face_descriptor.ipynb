{
 "cells": [
  {
   "cell_type": "code",
   "execution_count": 1,
   "metadata": {},
   "outputs": [],
   "source": [
    "# -*- coding: utf-8 -*-\n",
    "import os\n",
    "import numpy as np\n",
    "import cv2\n",
    "import dlib\n",
    "import time\n",
    "import pandas as pd\n",
    "import matplotlib.pyplot as plt\n",
    "%matplotlib inline"
   ]
  },
  {
   "cell_type": "markdown",
   "metadata": {},
   "source": [
    "## Load model"
   ]
  },
  {
   "cell_type": "code",
   "execution_count": 2,
   "metadata": {},
   "outputs": [],
   "source": [
    "detector = dlib.get_frontal_face_detector()\n",
    "p = \"shape_predictor_68_face_landmarks.dat\"\n",
    "predictor = dlib.shape_predictor (p)\n",
    "face_rec_model_path = 'dlib_face_recognition_resnet_model_v1.dat'\n",
    "facerec = dlib.face_recognition_model_v1(face_rec_model_path)\n"
   ]
  },
  {
   "cell_type": "markdown",
   "metadata": {},
   "source": [
    "## get facial imformation "
   ]
  },
  {
   "cell_type": "markdown",
   "metadata": {},
   "source": [
    "If an image contains no face, it will not be included in the pkl file"
   ]
  },
  {
   "cell_type": "code",
   "execution_count": 3,
   "metadata": {},
   "outputs": [],
   "source": [
    "result = []\n",
    "def get_faces(file):\n",
    "    image = cv2.imdecode(np.fromfile(file,dtype=np.uint8),-1)\n",
    "    image = cv2. cvtColor (image, cv2.COLOR_BGR2RGB)\n",
    "    gray = cv2. cvtColor (image, cv2.COLOR_RGB2GRAY)\n",
    "\n",
    "    rects = detector (gray , 0)\n",
    "    if len(rects) >=0:\n",
    "        for rect in rects :\n",
    "            shape = predictor (gray , rect )\n",
    "            face_chip = dlib.get_face_chip(image, shape)\n",
    "            face_descriptor = facerec.compute_face_descriptor(face_chip)\n",
    "            item = [file, [rect.left(), rect.top(), rect.width(), rect.height()], list(face_descriptor)]\n",
    "            result.append(item)\n",
    "        \n",
    "def recu_dir(org_dir):\n",
    "    for file in os.listdir(org_dir):\n",
    "        if os.path.isdir(os.path.join(org_dir,file)):\n",
    "            abspath = os.path.join(org_dir,file)\n",
    "            recu_dir(os.path.join(org_dir, file))\n",
    "        else:\n",
    "            if file[-4:] == '.JPG':\n",
    "                get_faces(os.path.join(org_dir, file))\n"
   ]
  },
  {
   "cell_type": "code",
   "execution_count": 4,
   "metadata": {},
   "outputs": [
    {
     "data": {
      "text/html": [
       "<div>\n",
       "<style scoped>\n",
       "    .dataframe tbody tr th:only-of-type {\n",
       "        vertical-align: middle;\n",
       "    }\n",
       "\n",
       "    .dataframe tbody tr th {\n",
       "        vertical-align: top;\n",
       "    }\n",
       "\n",
       "    .dataframe thead th {\n",
       "        text-align: right;\n",
       "    }\n",
       "</style>\n",
       "<table border=\"1\" class=\"dataframe\">\n",
       "  <thead>\n",
       "    <tr style=\"text-align: right;\">\n",
       "      <th></th>\n",
       "      <th>file</th>\n",
       "      <th>rect</th>\n",
       "      <th>face_descriptor</th>\n",
       "    </tr>\n",
       "  </thead>\n",
       "  <tbody>\n",
       "    <tr>\n",
       "      <th>0</th>\n",
       "      <td>D://Data2\\new\\2019.08.31机器之心\\上午\\BB4A4589.JPG</td>\n",
       "      <td>[369, 189, 126, 126]</td>\n",
       "      <td>[-0.08341855555772781, 0.0792071670293808, 0.0...</td>\n",
       "    </tr>\n",
       "    <tr>\n",
       "      <th>1</th>\n",
       "      <td>D://Data2\\new\\2019.08.31机器之心\\上午\\BB4A4590.JPG</td>\n",
       "      <td>[532, 234, 180, 180]</td>\n",
       "      <td>[-0.05788932740688324, 0.05817071348428726, 0....</td>\n",
       "    </tr>\n",
       "    <tr>\n",
       "      <th>2</th>\n",
       "      <td>D://Data2\\new\\2019.08.31机器之心\\上午\\BB4A4591.JPG</td>\n",
       "      <td>[453, 234, 180, 180]</td>\n",
       "      <td>[-0.10730400681495667, 0.08268777281045914, 0....</td>\n",
       "    </tr>\n",
       "    <tr>\n",
       "      <th>3</th>\n",
       "      <td>D://Data2\\new\\2019.08.31机器之心\\上午\\BB4A4594.JPG</td>\n",
       "      <td>[229, 301, 73, 73]</td>\n",
       "      <td>[-0.12571413815021515, 0.09957826137542725, 0....</td>\n",
       "    </tr>\n",
       "    <tr>\n",
       "      <th>4</th>\n",
       "      <td>D://Data2\\new\\2019.08.31机器之心\\上午\\BB4A4594.JPG</td>\n",
       "      <td>[765, 246, 87, 88]</td>\n",
       "      <td>[-0.12546943128108978, 0.0979333147406578, 0.1...</td>\n",
       "    </tr>\n",
       "  </tbody>\n",
       "</table>\n",
       "</div>"
      ],
      "text/plain": [
       "                                           file                  rect  \\\n",
       "0  D://Data2\\new\\2019.08.31机器之心\\上午\\BB4A4589.JPG  [369, 189, 126, 126]   \n",
       "1  D://Data2\\new\\2019.08.31机器之心\\上午\\BB4A4590.JPG  [532, 234, 180, 180]   \n",
       "2  D://Data2\\new\\2019.08.31机器之心\\上午\\BB4A4591.JPG  [453, 234, 180, 180]   \n",
       "3  D://Data2\\new\\2019.08.31机器之心\\上午\\BB4A4594.JPG    [229, 301, 73, 73]   \n",
       "4  D://Data2\\new\\2019.08.31机器之心\\上午\\BB4A4594.JPG    [765, 246, 87, 88]   \n",
       "\n",
       "                                     face_descriptor  \n",
       "0  [-0.08341855555772781, 0.0792071670293808, 0.0...  \n",
       "1  [-0.05788932740688324, 0.05817071348428726, 0....  \n",
       "2  [-0.10730400681495667, 0.08268777281045914, 0....  \n",
       "3  [-0.12571413815021515, 0.09957826137542725, 0....  \n",
       "4  [-0.12546943128108978, 0.0979333147406578, 0.1...  "
      ]
     },
     "execution_count": 4,
     "metadata": {},
     "output_type": "execute_result"
    }
   ],
   "source": [
    "recu_dir('D://Data2')\n",
    "data = pd.DataFrame(result, columns=['file', 'rect', 'face_descriptor'])\n",
    "data.head()"
   ]
  },
  {
   "cell_type": "code",
   "execution_count": 5,
   "metadata": {},
   "outputs": [],
   "source": [
    "data.to_pickle('faces_all.pkl')"
   ]
  },
  {
   "cell_type": "code",
   "execution_count": null,
   "metadata": {},
   "outputs": [],
   "source": []
  }
 ],
 "metadata": {
  "kernelspec": {
   "display_name": "Python 3",
   "language": "python",
   "name": "python3"
  },
  "language_info": {
   "codemirror_mode": {
    "name": "ipython",
    "version": 3
   },
   "file_extension": ".py",
   "mimetype": "text/x-python",
   "name": "python",
   "nbconvert_exporter": "python",
   "pygments_lexer": "ipython3",
   "version": "3.7.0"
  }
 },
 "nbformat": 4,
 "nbformat_minor": 2
}
