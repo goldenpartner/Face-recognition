{
 "cells": [
  {
   "cell_type": "code",
   "execution_count": 1,
   "metadata": {},
   "outputs": [],
   "source": [
    "# -*- coding: utf-8 -*-\n",
    "import os\n",
    "import numpy as np\n",
    "import cv2\n",
    "import dlib\n",
    "import time\n",
    "import pandas as pd\n",
    "import matplotlib.pyplot as plt\n",
    "%matplotlib inline"
   ]
  },
  {
   "cell_type": "code",
   "execution_count": 7,
   "metadata": {},
   "outputs": [],
   "source": [
    "data = pd.read_pickle('faces_full.pkl')"
   ]
  },
  {
   "cell_type": "code",
   "execution_count": 8,
   "metadata": {},
   "outputs": [
    {
     "data": {
      "text/plain": [
       "(28304, 3)"
      ]
     },
     "execution_count": 8,
     "metadata": {},
     "output_type": "execute_result"
    }
   ],
   "source": [
    "data.shape"
   ]
  },
  {
   "cell_type": "code",
   "execution_count": 10,
   "metadata": {},
   "outputs": [
    {
     "data": {
      "text/html": [
       "<div>\n",
       "<style scoped>\n",
       "    .dataframe tbody tr th:only-of-type {\n",
       "        vertical-align: middle;\n",
       "    }\n",
       "\n",
       "    .dataframe tbody tr th {\n",
       "        vertical-align: top;\n",
       "    }\n",
       "\n",
       "    .dataframe thead th {\n",
       "        text-align: right;\n",
       "    }\n",
       "</style>\n",
       "<table border=\"1\" class=\"dataframe\">\n",
       "  <thead>\n",
       "    <tr style=\"text-align: right;\">\n",
       "      <th></th>\n",
       "      <th>file</th>\n",
       "      <th>rect</th>\n",
       "      <th>face_descriptor</th>\n",
       "    </tr>\n",
       "  </thead>\n",
       "  <tbody>\n",
       "    <tr>\n",
       "      <th>0</th>\n",
       "      <td>D://Data\\video\\8.29张江人工智能岛\\29号\\摄像迟\\BPAV\\CLPR\\4...</td>\n",
       "      <td>[925, 365, 73, 73]</td>\n",
       "      <td>[-0.10779663920402527, 0.10153406113386154, 0....</td>\n",
       "    </tr>\n",
       "    <tr>\n",
       "      <th>1</th>\n",
       "      <td>D://Data\\video\\8.29张江人工智能岛\\29号\\摄像迟\\BPAV\\CLPR\\4...</td>\n",
       "      <td>[813, 362, 87, 87]</td>\n",
       "      <td>[-0.060471706092357635, 0.036922015249729156, ...</td>\n",
       "    </tr>\n",
       "    <tr>\n",
       "      <th>2</th>\n",
       "      <td>D://Data\\video\\8.29张江人工智能岛\\29号\\摄像迟\\BPAV\\CLPR\\4...</td>\n",
       "      <td>[369, 231, 126, 125]</td>\n",
       "      <td>[-0.09775551408529282, 0.07954566180706024, 0....</td>\n",
       "    </tr>\n",
       "    <tr>\n",
       "      <th>3</th>\n",
       "      <td>D://Data\\video\\8.29张江人工智能岛\\29号\\摄像迟\\BPAV\\CLPR\\4...</td>\n",
       "      <td>[353, 238, 105, 105]</td>\n",
       "      <td>[-0.09728292375802994, 0.04980679973959923, 0....</td>\n",
       "    </tr>\n",
       "    <tr>\n",
       "      <th>4</th>\n",
       "      <td>D://Data\\video\\8.29张江人工智能岛\\29号\\摄像迟\\BPAV\\CLPR\\4...</td>\n",
       "      <td>[839, 176, 126, 125]</td>\n",
       "      <td>[-0.003757824655622244, 0.09656134992837906, 0...</td>\n",
       "    </tr>\n",
       "  </tbody>\n",
       "</table>\n",
       "</div>"
      ],
      "text/plain": [
       "                                                file                  rect  \\\n",
       "0  D://Data\\video\\8.29张江人工智能岛\\29号\\摄像迟\\BPAV\\CLPR\\4...    [925, 365, 73, 73]   \n",
       "1  D://Data\\video\\8.29张江人工智能岛\\29号\\摄像迟\\BPAV\\CLPR\\4...    [813, 362, 87, 87]   \n",
       "2  D://Data\\video\\8.29张江人工智能岛\\29号\\摄像迟\\BPAV\\CLPR\\4...  [369, 231, 126, 125]   \n",
       "3  D://Data\\video\\8.29张江人工智能岛\\29号\\摄像迟\\BPAV\\CLPR\\4...  [353, 238, 105, 105]   \n",
       "4  D://Data\\video\\8.29张江人工智能岛\\29号\\摄像迟\\BPAV\\CLPR\\4...  [839, 176, 126, 125]   \n",
       "\n",
       "                                     face_descriptor  \n",
       "0  [-0.10779663920402527, 0.10153406113386154, 0....  \n",
       "1  [-0.060471706092357635, 0.036922015249729156, ...  \n",
       "2  [-0.09775551408529282, 0.07954566180706024, 0....  \n",
       "3  [-0.09728292375802994, 0.04980679973959923, 0....  \n",
       "4  [-0.003757824655622244, 0.09656134992837906, 0...  "
      ]
     },
     "execution_count": 10,
     "metadata": {},
     "output_type": "execute_result"
    }
   ],
   "source": [
    "data.head()"
   ]
  },
  {
   "cell_type": "code",
   "execution_count": 16,
   "metadata": {},
   "outputs": [],
   "source": [
    "descriptor = np.array(list(data['face_descriptor']))"
   ]
  },
  {
   "cell_type": "code",
   "execution_count": 17,
   "metadata": {},
   "outputs": [
    {
     "data": {
      "text/plain": [
       "(28304, 128)"
      ]
     },
     "execution_count": 17,
     "metadata": {},
     "output_type": "execute_result"
    }
   ],
   "source": [
    "descriptor.shape"
   ]
  },
  {
   "cell_type": "code",
   "execution_count": 18,
   "metadata": {},
   "outputs": [],
   "source": [
    "descriptor_transpose = descriptor.transpose()"
   ]
  },
  {
   "cell_type": "code",
   "execution_count": 19,
   "metadata": {},
   "outputs": [
    {
     "data": {
      "text/plain": [
       "(128, 28304)"
      ]
     },
     "execution_count": 19,
     "metadata": {},
     "output_type": "execute_result"
    }
   ],
   "source": [
    "descriptor_transpose.shape"
   ]
  },
  {
   "cell_type": "code",
   "execution_count": 21,
   "metadata": {},
   "outputs": [],
   "source": [
    "np.savetxt('descriptor.txt', descriptor, delimiter=\" \")"
   ]
  },
  {
   "cell_type": "code",
   "execution_count": 22,
   "metadata": {},
   "outputs": [],
   "source": [
    "np.savetxt('descriptor_transpose.txt', descriptor_transpose, delimiter=\" \")"
   ]
  },
  {
   "cell_type": "code",
   "execution_count": null,
   "metadata": {},
   "outputs": [],
   "source": []
  }
 ],
 "metadata": {
  "kernelspec": {
   "display_name": "Python 3",
   "language": "python",
   "name": "python3"
  },
  "language_info": {
   "codemirror_mode": {
    "name": "ipython",
    "version": 3
   },
   "file_extension": ".py",
   "mimetype": "text/x-python",
   "name": "python",
   "nbconvert_exporter": "python",
   "pygments_lexer": "ipython3",
   "version": "3.7.0"
  }
 },
 "nbformat": 4,
 "nbformat_minor": 2
}
