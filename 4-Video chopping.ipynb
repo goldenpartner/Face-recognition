{
 "cells": [
  {
   "cell_type": "code",
   "execution_count": 3,
   "metadata": {},
   "outputs": [],
   "source": [
    "import cv2\n",
    "import os\n",
    "import matplotlib.pyplot as plt"
   ]
  },
  {
   "cell_type": "code",
   "execution_count": 4,
   "metadata": {},
   "outputs": [],
   "source": [
    "def chop_video(file_name, org_dir, save_dir):\n",
    "    \n",
    "    vidcap = cv2.VideoCapture(os.path.join(org_dir, file_name))\n",
    "    count = 0\n",
    "    success = True\n",
    "    fps = int(vidcap.get(cv2.CAP_PROP_FPS))  \n",
    "    while success:\n",
    "        success,image = vidcap.read()\n",
    "        #print('read a new frame:',success)\n",
    "        if success and count%(fps) == 0:\n",
    "            save_file = str(count/fps)+\".jpg\"\n",
    "            #plt.imsave(save_file, image)\n",
    "            cv2.imencode('.jpg',image)[1].tofile(os.path.join(save_dir,save_file))\n",
    "            #print('successfully written 10th frame')\n",
    "        count+=1"
   ]
  },
  {
   "cell_type": "code",
   "execution_count": 5,
   "metadata": {},
   "outputs": [],
   "source": [
    "def recu_dir(org_dir, cur_dir):\n",
    "    if not os.path.exists(cur_dir):\n",
    "        os.mkdir(cur_dir)\n",
    "    for file in os.listdir(org_dir):\n",
    "        if os.path.isdir(os.path.join(org_dir,file)):\n",
    "            abspath = os.path.join(org_dir,file)\n",
    "            if not os.path.exists(os.path.join(cur_dir, file)):\n",
    "                os.mkdir(os.path.join(cur_dir, file))\n",
    "            #print('Go into ', os.path.join(cur_dir, file))\n",
    "            recu_dir(abspath, os.path.join(cur_dir, file))\n",
    "        else:\n",
    "            if file[-4:] == '.MP4':\n",
    "                chop_video(file, org_dir, cur_dir)\n",
    "            #if file[-4:] == '.MP4':\n",
    "            #    get_image_from_video(file, org_dir, cur_dir)"
   ]
  },
  {
   "cell_type": "code",
   "execution_count": 10,
   "metadata": {},
   "outputs": [],
   "source": [
    "recu_dir('D:\\\\Data\\\\摄影 迟', 'D:\\\\Data2\\\\video2\\\\摄影 迟')"
   ]
  },
  {
   "cell_type": "code",
   "execution_count": null,
   "metadata": {},
   "outputs": [],
   "source": []
  }
 ],
 "metadata": {
  "kernelspec": {
   "display_name": "Python 3",
   "language": "python",
   "name": "python3"
  },
  "language_info": {
   "codemirror_mode": {
    "name": "ipython",
    "version": 3
   },
   "file_extension": ".py",
   "mimetype": "text/x-python",
   "name": "python",
   "nbconvert_exporter": "python",
   "pygments_lexer": "ipython3",
   "version": "3.7.0"
  }
 },
 "nbformat": 4,
 "nbformat_minor": 2
}
