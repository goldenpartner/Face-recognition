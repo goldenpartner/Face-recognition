{
 "cells": [
  {
   "cell_type": "code",
   "execution_count": 2,
   "metadata": {},
   "outputs": [],
   "source": [
    "# -*- coding: utf-8 -*-\n",
    "import os\n",
    "import numpy as np\n",
    "import cv2\n",
    "import dlib\n",
    "import time\n",
    "import pandas as pd\n",
    "import matplotlib.pyplot as plt\n",
    "%matplotlib inline"
   ]
  },
  {
   "cell_type": "markdown",
   "metadata": {},
   "source": [
    "## Load dataset"
   ]
  },
  {
   "cell_type": "code",
   "execution_count": 28,
   "metadata": {},
   "outputs": [],
   "source": [
    "data = pd.read_pickle('faces_all.pkl')\n",
    "detector = dlib.get_frontal_face_detector()\n",
    "p = \"shape_predictor_68_face_landmarks.dat\"\n",
    "predictor = dlib.shape_predictor (p)\n",
    "face_rec_model_path = 'dlib_face_recognition_resnet_model_v1.dat'\n",
    "facerec = dlib.face_recognition_model_v1(face_rec_model_path)"
   ]
  },
  {
   "cell_type": "code",
   "execution_count": 12,
   "metadata": {},
   "outputs": [],
   "source": [
    "def get_faces(file):\n",
    "    \"\"\"\n",
    "        This function has the same functionality as in 2-Get_face_descriptor.ipynb\n",
    "        It returns a pandas dataframe contains the face decriptors\n",
    "    \"\"\"\n",
    "    faces = []\n",
    "    image = cv2.imdecode(np.fromfile(file,dtype=np.uint8),-1)\n",
    "    image = cv2. cvtColor (image, cv2.COLOR_BGR2RGB)\n",
    "    gray = cv2. cvtColor (image, cv2.COLOR_RGB2GRAY)\n",
    "\n",
    "    rects = detector (gray , 0)\n",
    "    if len(rects) >=0:\n",
    "        for rect in rects :\n",
    "            shape = predictor (gray , rect )\n",
    "            face_chip = dlib.get_face_chip(image, shape)\n",
    "            face_descriptor = facerec.compute_face_descriptor(face_chip)\n",
    "            item = [file, [rect.left(), rect.top(), rect.width(), rect.height()], list(face_descriptor)]\n",
    "            faces.append(item)\n",
    "    return pd.DataFrame(faces, columns=['file', 'rect', 'face_descriptor'])"
   ]
  },
  {
   "cell_type": "code",
   "execution_count": 4,
   "metadata": {},
   "outputs": [],
   "source": [
    "def rec_person(row):\n",
    "    \"\"\"\n",
    "        This function takes a file's path (better absolute path) as argument and returns the image's information with \n",
    "        the most likely match\n",
    "    \"\"\"\n",
    "    max_d = 1000\n",
    "    person = None\n",
    "    for i in range(len(data)):\n",
    "        f = data.iloc[i]\n",
    "        #print(f)\n",
    "        if f.file == row.file:\n",
    "            continue\n",
    "        #print(row.face_descriptor)\n",
    "        d = np.linalg.norm(np.array(f.face_descriptor) - np.array(row.face_descriptor))\n",
    "        if d < max_d:\n",
    "            max_d = d\n",
    "            person = f\n",
    "    if max_d<0.6:\n",
    "        return([max_d,person])\n",
    "    else:\n",
    "        return None"
   ]
  },
  {
   "cell_type": "code",
   "execution_count": 18,
   "metadata": {},
   "outputs": [],
   "source": [
    "def rec_persons(row):\n",
    "    \"\"\"\n",
    "        This function takes a file's path (better absolute path) as argument and returns all images with similar face.\n",
    "        The result is a list of pandas series\n",
    "    \"\"\"\n",
    "    persons = []\n",
    "    for i in range(len(data)):\n",
    "        f = data.iloc[i]\n",
    "        #print(f)\n",
    "        if f.file == row.file:\n",
    "            continue\n",
    "        #print(row.face_descriptor)\n",
    "        d = np.linalg.norm(np.array(f.face_descriptor) - np.array(row.face_descriptor))\n",
    "        if d < 0.3:\n",
    "            persons.append(f)\n",
    "    return persons"
   ]
  },
  {
   "cell_type": "code",
   "execution_count": 13,
   "metadata": {},
   "outputs": [],
   "source": [
    "img = \"D:\\\\Data2\\\\new\\\\8.29张江人工智能岛\\\\29号\\\\摄影勇\\\\DCIM\\\\101EOS5D\\\\7A4A7831.JPG\" # Path to sample image for searching\n",
    "img_info = get_faces(img)\n",
    "img_info"
   ]
  },
  {
   "cell_type": "code",
   "execution_count": 29,
   "metadata": {},
   "outputs": [
    {
     "name": "stdout",
     "output_type": "stream",
     "text": [
      "For image:  D:\\Data2\\new\\8.29张江人工智能岛\\29号\\摄影勇\\DCIM\\101EOS5D\\7A4A7831.JPG :\n",
      "D://Data2\\new\\8.29张江人工智能岛\\29号\\摄影勇\\DCIM\\100EOS5D\\7A4A7393.JPG\n",
      "D://Data2\\new\\8.29张江人工智能岛\\29号\\摄影勇\\DCIM\\101EOS5D\\7A4A7831.JPG\n",
      "D://Data2\\new\\8.29张江人工智能岛\\29号\\摄影勇\\DCIM\\101EOS5D\\7A4A7832.JPG\n",
      "D://Data2\\new\\8.29张江人工智能岛\\29号\\摄影勇\\DCIM\\102EOS5D\\7A4A8019.JPG\n",
      "\n",
      "For image:  D:\\Data2\\new\\8.29张江人工智能岛\\29号\\摄影勇\\DCIM\\101EOS5D\\7A4A7831.JPG :\n",
      "D://Data2\\new\\8.29张江人工智能岛\\29号\\摄影勇\\DCIM\\100EOS5D\\7A4A7387.JPG\n",
      "D://Data2\\new\\8.29张江人工智能岛\\29号\\摄影勇\\DCIM\\101EOS5D\\7A4A7831.JPG\n",
      "D://Data2\\new\\8.29张江人工智能岛\\29号\\摄影勇\\DCIM\\101EOS5D\\7A4A7832.JPG\n",
      "D://Data2\\new\\8.29张江人工智能岛\\29号\\摄影勇\\DCIM\\101EOS5D\\7A4A7841.JPG\n",
      "D://Data2\\new\\8.29张江人工智能岛\\29号\\摄影勇\\DCIM\\101EOS5D\\7A4A7988.JPG\n",
      "D://Data2\\new\\8.29张江人工智能岛\\31号\\照片\\摄影 迟\\0P0A1197.JPG\n",
      "D://Data2\\new\\8.29张江人工智能岛\\31号\\照片\\摄影 迟\\0P0A1226.JPG\n",
      "D://Data2\\new\\8.29张江人工智能岛\\31号\\照片\\摄影 迟\\0P0A1230.JPG\n",
      "D://Data2\\new\\8.29张江人工智能岛\\31号\\照片\\摄影 迟\\0P0A1233.JPG\n",
      "D://Data2\\new\\8.29张江人工智能岛\\31号\\照片\\摄影 迟\\0P0A1235.JPG\n",
      "D://Data2\\new\\8.29张江人工智能岛\\31号\\照片\\摄影 迟\\0P0A1236.JPG\n",
      "D://Data2\\new\\8.29张江人工智能岛\\31号\\照片\\摄影 迟\\0P0A1238.JPG\n",
      "D://Data2\\new\\摄影 迟\\0P0A1197.JPG\n",
      "D://Data2\\new\\摄影 迟\\0P0A1226.JPG\n",
      "D://Data2\\new\\摄影 迟\\0P0A1230.JPG\n",
      "D://Data2\\new\\摄影 迟\\0P0A1233.JPG\n",
      "D://Data2\\new\\摄影 迟\\0P0A1235.JPG\n",
      "D://Data2\\new\\摄影 迟\\0P0A1236.JPG\n",
      "D://Data2\\new\\摄影 迟\\0P0A1238.JPG\n",
      "\n",
      "For image:  D:\\Data2\\new\\8.29张江人工智能岛\\29号\\摄影勇\\DCIM\\101EOS5D\\7A4A7831.JPG :\n",
      "D://Data2\\new\\8.29张江人工智能岛\\29号\\摄影勇\\DCIM\\101EOS5D\\7A4A7831.JPG\n",
      "D://Data2\\new\\8.29张江人工智能岛\\29号\\摄影勇\\DCIM\\101EOS5D\\7A4A7832.JPG\n",
      "D://Data2\\new\\8.29张江人工智能岛\\29号\\摄影勇\\DCIM\\101EOS5D\\7A4A7834.JPG\n",
      "\n"
     ]
    }
   ],
   "source": [
    "for i in range(len(img_info)):\n",
    "    print(\"For image: \", img_info.iloc[i]['file'],\":\")\n",
    "    result = rec_persons(img_info.iloc[i])\n",
    "    for j in range(len(result)):\n",
    "        print(result[j]['file'])\n",
    "    print()"
   ]
  }
 ],
 "metadata": {
  "kernelspec": {
   "display_name": "Python 3",
   "language": "python",
   "name": "python3"
  },
  "language_info": {
   "codemirror_mode": {
    "name": "ipython",
    "version": 3
   },
   "file_extension": ".py",
   "mimetype": "text/x-python",
   "name": "python",
   "nbconvert_exporter": "python",
   "pygments_lexer": "ipython3",
   "version": "3.7.0"
  }
 },
 "nbformat": 4,
 "nbformat_minor": 2
}
