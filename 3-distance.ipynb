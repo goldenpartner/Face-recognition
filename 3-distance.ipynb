{
 "cells": [
  {
   "cell_type": "code",
   "execution_count": 1,
   "metadata": {},
   "outputs": [],
   "source": [
    "# -*- coding: utf-8 -*-\n",
    "import os\n",
    "import numpy as np\n",
    "import cv2\n",
    "import dlib\n",
    "import time\n",
    "import pandas as pd\n",
    "import matplotlib.pyplot as plt\n",
    "%matplotlib inline"
   ]
  },
  {
   "cell_type": "markdown",
   "metadata": {},
   "source": [
    "## Load dataset"
   ]
  },
  {
   "cell_type": "code",
   "execution_count": 11,
   "metadata": {},
   "outputs": [],
   "source": [
    "data = pd.read_pickle('faces_all.pkl')\n",
    "detector = dlib.get_frontal_face_detector()\n",
    "p = \"shape_predictor_68_face_landmarks.dat\"\n",
    "predictor = dlib.shape_predictor (p)\n",
    "face_rec_model_path = 'dlib_face_recognition_resnet_model_v1.dat'\n",
    "facerec = dlib.face_recognition_model_v1(face_rec_model_path)"
   ]
  },
  {
   "cell_type": "code",
   "execution_count": 12,
   "metadata": {},
   "outputs": [
    {
     "data": {
      "text/plain": [
       "(14430, 3)"
      ]
     },
     "execution_count": 12,
     "metadata": {},
     "output_type": "execute_result"
    }
   ],
   "source": [
    "data.shape"
   ]
  },
  {
   "cell_type": "code",
   "execution_count": 4,
   "metadata": {},
   "outputs": [],
   "source": [
    "def get_faces(file):\n",
    "    \"\"\"\n",
    "        This function has the same functionality as in 2-Get_face_descriptor.ipynb\n",
    "        It returns a pandas dataframe contains the face decriptors\n",
    "    \"\"\"\n",
    "    faces = []\n",
    "    image = cv2.imdecode(np.fromfile(file,dtype=np.uint8),-1)\n",
    "    image = cv2. cvtColor (image, cv2.COLOR_BGR2RGB)\n",
    "    gray = cv2. cvtColor (image, cv2.COLOR_RGB2GRAY)\n",
    "\n",
    "    rects = detector (gray , 0)\n",
    "    if len(rects) >=0:\n",
    "        for rect in rects :\n",
    "            shape = predictor (gray , rect )\n",
    "            face_chip = dlib.get_face_chip(image, shape)\n",
    "            face_descriptor = facerec.compute_face_descriptor(face_chip)\n",
    "            item = [file, [rect.left(), rect.top(), rect.width(), rect.height()], list(face_descriptor)]\n",
    "            faces.append(item)\n",
    "    return pd.DataFrame(faces, columns=['file', 'rect', 'face_descriptor'])"
   ]
  },
  {
   "cell_type": "code",
   "execution_count": 5,
   "metadata": {},
   "outputs": [],
   "source": [
    "def rec_person(row):\n",
    "    \"\"\"\n",
    "        This function takes a file's path (better absolute path) as argument and returns the image's information with \n",
    "        the most likely match\n",
    "    \"\"\"\n",
    "    max_d = 1000\n",
    "    person = None\n",
    "    for i in range(len(data)):\n",
    "        f = data.iloc[i]\n",
    "        #print(f)\n",
    "        if f.file == row.file:\n",
    "            continue\n",
    "        #print(row.face_descriptor)\n",
    "        d = np.linalg.norm(np.array(f.face_descriptor) - np.array(row.face_descriptor))\n",
    "        if d < max_d:\n",
    "            max_d = d\n",
    "            person = f\n",
    "    if max_d<0.6:\n",
    "        return([max_d,person])\n",
    "    else:\n",
    "        return None"
   ]
  },
  {
   "cell_type": "code",
   "execution_count": 6,
   "metadata": {},
   "outputs": [],
   "source": [
    "def rec_persons(row):\n",
    "    \"\"\"\n",
    "        This function takes a file's path (better absolute path) as argument and returns all images with similar face.\n",
    "        The result is a list of pandas series\n",
    "    \"\"\"\n",
    "    persons = []\n",
    "    for i in range(len(data)):\n",
    "        f = data.iloc[i]\n",
    "        #print(f)\n",
    "        if f.file == row.file:\n",
    "            continue\n",
    "        #print(row.face_descriptor)\n",
    "        d = np.linalg.norm(np.array(f.face_descriptor) - np.array(row.face_descriptor))\n",
    "        if d < 0.3:\n",
    "            persons.append(f)\n",
    "    return persons"
   ]
  },
  {
   "cell_type": "code",
   "execution_count": 13,
   "metadata": {},
   "outputs": [
    {
     "data": {
      "text/html": [
       "<div>\n",
       "<style scoped>\n",
       "    .dataframe tbody tr th:only-of-type {\n",
       "        vertical-align: middle;\n",
       "    }\n",
       "\n",
       "    .dataframe tbody tr th {\n",
       "        vertical-align: top;\n",
       "    }\n",
       "\n",
       "    .dataframe thead th {\n",
       "        text-align: right;\n",
       "    }\n",
       "</style>\n",
       "<table border=\"1\" class=\"dataframe\">\n",
       "  <thead>\n",
       "    <tr style=\"text-align: right;\">\n",
       "      <th></th>\n",
       "      <th>file</th>\n",
       "      <th>rect</th>\n",
       "      <th>face_descriptor</th>\n",
       "    </tr>\n",
       "  </thead>\n",
       "  <tbody>\n",
       "    <tr>\n",
       "      <th>0</th>\n",
       "      <td>D:\\Data2\\video2\\8.29张江人工智能岛\\29号\\摄像迟\\BPAV\\CLPR\\...</td>\n",
       "      <td>[910, 251, 259, 259]</td>\n",
       "      <td>[-0.060811690986156464, 0.1016613319516182, 0....</td>\n",
       "    </tr>\n",
       "  </tbody>\n",
       "</table>\n",
       "</div>"
      ],
      "text/plain": [
       "                                                file                  rect  \\\n",
       "0  D:\\Data2\\video2\\8.29张江人工智能岛\\29号\\摄像迟\\BPAV\\CLPR\\...  [910, 251, 259, 259]   \n",
       "\n",
       "                                     face_descriptor  \n",
       "0  [-0.060811690986156464, 0.1016613319516182, 0....  "
      ]
     },
     "execution_count": 13,
     "metadata": {},
     "output_type": "execute_result"
    }
   ],
   "source": [
    "img = \"D:\\\\Data2\\\\video2\\\\8.29张江人工智能岛\\\\29号\\\\摄像迟\\\\BPAV\\\\CLPR\\\\444_0370_01\\\\4.0.jpg\" # Path to sample image for searching\n",
    "img_info = get_faces(img)\n",
    "img_info"
   ]
  },
  {
   "cell_type": "code",
   "execution_count": 14,
   "metadata": {},
   "outputs": [
    {
     "name": "stdout",
     "output_type": "stream",
     "text": [
      "For image:  D:\\Data2\\video2\\8.29张江人工智能岛\\29号\\摄像迟\\BPAV\\CLPR\\444_0370_01\\4.0.jpg :\n",
      "D://Data2\\video2\\8.29张江人工智能岛\\29号\\摄像迟\\BPAV\\CLPR\\444_0368_01\\0.0.jpg\n",
      "D://Data2\\video2\\8.29张江人工智能岛\\29号\\摄像迟\\BPAV\\CLPR\\444_0368_01\\1.0.jpg\n",
      "D://Data2\\video2\\8.29张江人工智能岛\\29号\\摄像迟\\BPAV\\CLPR\\444_0368_01\\2.0.jpg\n",
      "D://Data2\\video2\\8.29张江人工智能岛\\29号\\摄像迟\\BPAV\\CLPR\\444_0368_01\\3.0.jpg\n",
      "D://Data2\\video2\\8.29张江人工智能岛\\29号\\摄像迟\\BPAV\\CLPR\\444_0368_01\\5.0.jpg\n",
      "D://Data2\\video2\\8.29张江人工智能岛\\29号\\摄像迟\\BPAV\\CLPR\\444_0368_01\\8.0.jpg\n",
      "D://Data2\\video2\\8.29张江人工智能岛\\29号\\摄像迟\\BPAV\\CLPR\\444_0370_01\\0.0.jpg\n",
      "D://Data2\\video2\\8.29张江人工智能岛\\29号\\摄像迟\\BPAV\\CLPR\\444_0370_01\\1.0.jpg\n",
      "D://Data2\\video2\\8.29张江人工智能岛\\29号\\摄像迟\\BPAV\\CLPR\\444_0370_01\\2.0.jpg\n",
      "D://Data2\\video2\\8.29张江人工智能岛\\29号\\摄像迟\\BPAV\\CLPR\\444_0370_01\\3.0.jpg\n",
      "D://Data2\\video2\\8.29张江人工智能岛\\29号\\摄像迟\\BPAV\\CLPR\\444_0370_01\\4.0.jpg\n",
      "D://Data2\\video2\\8.29张江人工智能岛\\29号\\摄像迟\\BPAV\\CLPR\\444_0504_01\\0.0.jpg\n",
      "D://Data2\\video2\\8.29张江人工智能岛\\29号\\摄像迟\\BPAV\\CLPR\\444_0504_01\\1.0.jpg\n",
      "D://Data2\\video2\\8.29张江人工智能岛\\29号\\摄像迟\\BPAV\\CLPR\\444_0504_01\\2.0.jpg\n",
      "D://Data2\\video2\\8.29张江人工智能岛\\29号\\摄像迟\\BPAV\\CLPR\\444_0510_01\\0.0.jpg\n",
      "D://Data2\\video2\\8.29张江人工智能岛\\29号\\摄像迟\\BPAV\\CLPR\\444_0565_01\\12.0.jpg\n",
      "D://Data2\\video2\\8.29张江人工智能岛\\29号\\摄像迟\\BPAV\\CLPR\\444_0565_01\\13.0.jpg\n",
      "D://Data2\\video2\\8.29张江人工智能岛\\29号\\摄像迟\\BPAV\\CLPR\\444_0565_01\\3.0.jpg\n",
      "D://Data2\\video2\\8.29张江人工智能岛\\29号\\摄像迟\\BPAV\\CLPR\\444_0565_01\\5.0.jpg\n",
      "D://Data2\\video2\\8.29张江人工智能岛\\29号\\摄像邬\\A卡\\BPAV\\CLPR\\256_0626_01\\3.0.jpg\n",
      "D://Data2\\video2\\8.29张江人工智能岛\\29号\\摄像邬\\A卡\\BPAV\\CLPR\\256_0626_01\\5.0.jpg\n",
      "D://Data2\\video2\\8.29张江人工智能岛\\29号\\摄像邬\\A卡\\BPAV\\CLPR\\256_0626_01\\6.0.jpg\n",
      "D://Data2\\video2\\8.29张江人工智能岛\\29号\\摄像邬\\A卡\\BPAV\\CLPR\\256_0626_01\\7.0.jpg\n",
      "D://Data2\\video2\\8.29张江人工智能岛\\29号\\摄像邬\\A卡\\BPAV\\CLPR\\256_0626_01\\8.0.jpg\n",
      "D://Data2\\video2\\8.29张江人工智能岛\\29号\\摄像邬\\A卡\\BPAV\\CLPR\\256_0627_01\\6.0.jpg\n",
      "\n"
     ]
    }
   ],
   "source": [
    "for i in range(len(img_info)):\n",
    "    print(\"For image: \", img_info.iloc[i]['file'],\":\")\n",
    "    result = rec_persons(img_info.iloc[i])\n",
    "    for j in range(len(result)):\n",
    "        print(result[j]['file'])\n",
    "    print()"
   ]
  },
  {
   "cell_type": "code",
   "execution_count": null,
   "metadata": {},
   "outputs": [],
   "source": []
  }
 ],
 "metadata": {
  "kernelspec": {
   "display_name": "Python 3",
   "language": "python",
   "name": "python3"
  },
  "language_info": {
   "codemirror_mode": {
    "name": "ipython",
    "version": 3
   },
   "file_extension": ".py",
   "mimetype": "text/x-python",
   "name": "python",
   "nbconvert_exporter": "python",
   "pygments_lexer": "ipython3",
   "version": "3.7.0"
  }
 },
 "nbformat": 4,
 "nbformat_minor": 2
}
