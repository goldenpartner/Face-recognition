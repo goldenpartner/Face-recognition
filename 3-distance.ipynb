{
 "cells": [
  {
   "cell_type": "code",
   "execution_count": 1,
   "metadata": {},
   "outputs": [],
   "source": [
    "# -*- coding: utf-8 -*-\n",
    "import os\n",
    "import numpy as np\n",
    "import cv2\n",
    "import dlib\n",
    "import time\n",
    "import pandas as pd\n",
    "import matplotlib.pyplot as plt\n",
    "%matplotlib inline"
   ]
  },
  {
   "cell_type": "markdown",
   "metadata": {},
   "source": [
    "## Load dataset"
   ]
  },
  {
   "cell_type": "code",
   "execution_count": 2,
   "metadata": {},
   "outputs": [],
   "source": [
    "data = pd.read_pickle('faces_full.pkl')\n",
    "detector = dlib.get_frontal_face_detector()\n",
    "p = \"shape_predictor_68_face_landmarks.dat\"\n",
    "predictor = dlib.shape_predictor (p)\n",
    "face_rec_model_path = 'dlib_face_recognition_resnet_model_v1.dat'\n",
    "facerec = dlib.face_recognition_model_v1(face_rec_model_path)"
   ]
  },
  {
   "cell_type": "code",
   "execution_count": 6,
   "metadata": {},
   "outputs": [
    {
     "data": {
      "text/plain": [
       "['D://Data\\\\video\\\\8.29张江人工智能岛\\\\29号\\\\摄像迟\\\\BPAV\\\\CLPR\\\\444_0340_01\\\\3.0.jpg',\n",
       " 'D://Data\\\\video\\\\8.29张江人工智能岛\\\\29号\\\\摄像迟\\\\BPAV\\\\CLPR\\\\444_0340_01\\\\6.0.jpg',\n",
       " 'D://Data\\\\video\\\\8.29张江人工智能岛\\\\29号\\\\摄像迟\\\\BPAV\\\\CLPR\\\\444_0346_01\\\\0.0.jpg',\n",
       " 'D://Data\\\\video\\\\8.29张江人工智能岛\\\\29号\\\\摄像迟\\\\BPAV\\\\CLPR\\\\444_0346_01\\\\1.0.jpg',\n",
       " 'D://Data\\\\video\\\\8.29张江人工智能岛\\\\29号\\\\摄像迟\\\\BPAV\\\\CLPR\\\\444_0346_01\\\\1.0.jpg',\n",
       " 'D://Data\\\\video\\\\8.29张江人工智能岛\\\\29号\\\\摄像迟\\\\BPAV\\\\CLPR\\\\444_0346_01\\\\1.0.jpg',\n",
       " 'D://Data\\\\video\\\\8.29张江人工智能岛\\\\29号\\\\摄像迟\\\\BPAV\\\\CLPR\\\\444_0346_01\\\\2.0.jpg',\n",
       " 'D://Data\\\\video\\\\8.29张江人工智能岛\\\\29号\\\\摄像迟\\\\BPAV\\\\CLPR\\\\444_0346_01\\\\2.0.jpg',\n",
       " 'D://Data\\\\video\\\\8.29张江人工智能岛\\\\29号\\\\摄像迟\\\\BPAV\\\\CLPR\\\\444_0346_01\\\\3.0.jpg',\n",
       " 'D://Data\\\\video\\\\8.29张江人工智能岛\\\\29号\\\\摄像迟\\\\BPAV\\\\CLPR\\\\444_0346_01\\\\4.0.jpg']"
      ]
     },
     "execution_count": 6,
     "metadata": {},
     "output_type": "execute_result"
    }
   ],
   "source": [
    "list(data['file'][:10])"
   ]
  },
  {
   "cell_type": "code",
   "execution_count": 7,
   "metadata": {},
   "outputs": [
    {
     "data": {
      "text/plain": [
       "'D://Data\\\\video\\\\8.29张江人工智能岛\\\\29号\\\\摄像迟\\\\BPAV\\\\CLPR\\\\444_0351_01\\\\1.0.jpg'"
      ]
     },
     "execution_count": 7,
     "metadata": {},
     "output_type": "execute_result"
    }
   ],
   "source": [
    "data['file'][59]"
   ]
  },
  {
   "cell_type": "code",
   "execution_count": null,
   "metadata": {},
   "outputs": [],
   "source": [
    "def get_faces(file):\n",
    "    \"\"\"\n",
    "        This function has the same functionality as in 2-Get_face_descriptor.ipynb\n",
    "        It returns a pandas dataframe contains the face decriptors\n",
    "    \"\"\"\n",
    "    faces = []\n",
    "    image = cv2.imdecode(np.fromfile(file,dtype=np.uint8),-1)\n",
    "    image = cv2. cvtColor (image, cv2.COLOR_BGR2RGB)\n",
    "    gray = cv2. cvtColor (image, cv2.COLOR_RGB2GRAY)\n",
    "\n",
    "    rects = detector (gray , 0)\n",
    "    if len(rects) >=0:\n",
    "        for rect in rects :\n",
    "            shape = predictor (gray , rect )\n",
    "            face_chip = dlib.get_face_chip(image, shape)\n",
    "            face_descriptor = facerec.compute_face_descriptor(face_chip)\n",
    "            item = [file, [rect.left(), rect.top(), rect.width(), rect.height()], list(face_descriptor)]\n",
    "            faces.append(item)\n",
    "    return pd.DataFrame(faces, columns=['file', 'rect', 'face_descriptor'])"
   ]
  },
  {
   "cell_type": "code",
   "execution_count": null,
   "metadata": {},
   "outputs": [],
   "source": [
    "def rec_person(row):\n",
    "    \"\"\"\n",
    "        This function takes a file's path (better absolute path) as argument and returns the image's information with \n",
    "        the most likely match\n",
    "    \"\"\"\n",
    "    max_d = 1000\n",
    "    person = None\n",
    "    for i in range(len(data)):\n",
    "        f = data.iloc[i]\n",
    "        #print(f)\n",
    "        if f.file == row.file:\n",
    "            continue\n",
    "        #print(row.face_descriptor)\n",
    "        d = np.linalg.norm(np.array(f.face_descriptor) - np.array(row.face_descriptor))\n",
    "        if d < max_d:\n",
    "            max_d = d\n",
    "            person = f\n",
    "    if max_d<0.6:\n",
    "        return([max_d,person])\n",
    "    else:\n",
    "        return None"
   ]
  },
  {
   "cell_type": "code",
   "execution_count": null,
   "metadata": {},
   "outputs": [],
   "source": [
    "def rec_persons(row, group):\n",
    "    \"\"\"\n",
    "        This function takes a file's path (better absolute path) as argument and returns all images with similar face.\n",
    "        The result is a list of pandas series\n",
    "    \"\"\"\n",
    "    for i in range(len(data)):\n",
    "        f = data.iloc[i]\n",
    "        #print(f)\n",
    "        if f.file == row.file or f.distance < 0.3:\n",
    "            continue\n",
    "        #print(row.face_descriptor)\n",
    "        d = np.linalg.norm(np.array(f.face_descriptor) - np.array(row.face_descriptor))\n",
    "        if d < f.distance:\n",
    "            data['distance'][i] = d\n",
    "            data['group'][i] = group"
   ]
  },
  {
   "cell_type": "code",
   "execution_count": null,
   "metadata": {},
   "outputs": [],
   "source": [
    "img = \"D:\\\\Data\\\\8.29张江人工智能岛\\\\31号\\\\照片\\\\摄影  文\\\\100EOS5D\\\\0O8A8700.JPG\" # Path to sample image for searching\n",
    "img_info = get_faces(img)\n",
    "img_info"
   ]
  },
  {
   "cell_type": "code",
   "execution_count": null,
   "metadata": {},
   "outputs": [],
   "source": [
    "start = time.time()\n",
    "\n",
    "for i in range(len(data)):\n",
    "    \n",
    "    rec_persons(img_info.iloc[i], i)\n",
    "\n",
    "print(time.time()- start)"
   ]
  },
  {
   "cell_type": "code",
   "execution_count": null,
   "metadata": {},
   "outputs": [],
   "source": [
    "data.groupby('file').count().sort_values(by='face_descriptor')"
   ]
  },
  {
   "cell_type": "code",
   "execution_count": 10,
   "metadata": {},
   "outputs": [],
   "source": [
    "distance = []\n",
    "with open(\"result.txt\") as f:\n",
    "    for line in f:\n",
    "        distance.append(int(line))"
   ]
  },
  {
   "cell_type": "code",
   "execution_count": 13,
   "metadata": {},
   "outputs": [],
   "source": [
    "data['group'] = distance"
   ]
  },
  {
   "cell_type": "code",
   "execution_count": 15,
   "metadata": {},
   "outputs": [
    {
     "data": {
      "text/html": [
       "<div>\n",
       "<style scoped>\n",
       "    .dataframe tbody tr th:only-of-type {\n",
       "        vertical-align: middle;\n",
       "    }\n",
       "\n",
       "    .dataframe tbody tr th {\n",
       "        vertical-align: top;\n",
       "    }\n",
       "\n",
       "    .dataframe thead th {\n",
       "        text-align: right;\n",
       "    }\n",
       "</style>\n",
       "<table border=\"1\" class=\"dataframe\">\n",
       "  <thead>\n",
       "    <tr style=\"text-align: right;\">\n",
       "      <th></th>\n",
       "      <th>file</th>\n",
       "      <th>rect</th>\n",
       "      <th>face_descriptor</th>\n",
       "    </tr>\n",
       "    <tr>\n",
       "      <th>group</th>\n",
       "      <th></th>\n",
       "      <th></th>\n",
       "      <th></th>\n",
       "    </tr>\n",
       "  </thead>\n",
       "  <tbody>\n",
       "    <tr>\n",
       "      <th>2</th>\n",
       "      <td>35</td>\n",
       "      <td>35</td>\n",
       "      <td>35</td>\n",
       "    </tr>\n",
       "    <tr>\n",
       "      <th>18</th>\n",
       "      <td>11</td>\n",
       "      <td>11</td>\n",
       "      <td>11</td>\n",
       "    </tr>\n",
       "    <tr>\n",
       "      <th>33</th>\n",
       "      <td>1</td>\n",
       "      <td>1</td>\n",
       "      <td>1</td>\n",
       "    </tr>\n",
       "    <tr>\n",
       "      <th>40</th>\n",
       "      <td>18</td>\n",
       "      <td>18</td>\n",
       "      <td>18</td>\n",
       "    </tr>\n",
       "    <tr>\n",
       "      <th>41</th>\n",
       "      <td>3017</td>\n",
       "      <td>3017</td>\n",
       "      <td>3017</td>\n",
       "    </tr>\n",
       "    <tr>\n",
       "      <th>43</th>\n",
       "      <td>328</td>\n",
       "      <td>328</td>\n",
       "      <td>328</td>\n",
       "    </tr>\n",
       "    <tr>\n",
       "      <th>70</th>\n",
       "      <td>1</td>\n",
       "      <td>1</td>\n",
       "      <td>1</td>\n",
       "    </tr>\n",
       "    <tr>\n",
       "      <th>79</th>\n",
       "      <td>5</td>\n",
       "      <td>5</td>\n",
       "      <td>5</td>\n",
       "    </tr>\n",
       "    <tr>\n",
       "      <th>83</th>\n",
       "      <td>369</td>\n",
       "      <td>369</td>\n",
       "      <td>369</td>\n",
       "    </tr>\n",
       "    <tr>\n",
       "      <th>110</th>\n",
       "      <td>24511</td>\n",
       "      <td>24511</td>\n",
       "      <td>24511</td>\n",
       "    </tr>\n",
       "    <tr>\n",
       "      <th>111</th>\n",
       "      <td>8</td>\n",
       "      <td>8</td>\n",
       "      <td>8</td>\n",
       "    </tr>\n",
       "  </tbody>\n",
       "</table>\n",
       "</div>"
      ],
      "text/plain": [
       "        file   rect  face_descriptor\n",
       "group                               \n",
       "2         35     35               35\n",
       "18        11     11               11\n",
       "33         1      1                1\n",
       "40        18     18               18\n",
       "41      3017   3017             3017\n",
       "43       328    328              328\n",
       "70         1      1                1\n",
       "79         5      5                5\n",
       "83       369    369              369\n",
       "110    24511  24511            24511\n",
       "111        8      8                8"
      ]
     },
     "execution_count": 15,
     "metadata": {},
     "output_type": "execute_result"
    }
   ],
   "source": [
    "data.groupby('group').count()"
   ]
  },
  {
   "cell_type": "code",
   "execution_count": 23,
   "metadata": {},
   "outputs": [
    {
     "data": {
      "text/html": [
       "<div>\n",
       "<style scoped>\n",
       "    .dataframe tbody tr th:only-of-type {\n",
       "        vertical-align: middle;\n",
       "    }\n",
       "\n",
       "    .dataframe tbody tr th {\n",
       "        vertical-align: top;\n",
       "    }\n",
       "\n",
       "    .dataframe thead th {\n",
       "        text-align: right;\n",
       "    }\n",
       "</style>\n",
       "<table border=\"1\" class=\"dataframe\">\n",
       "  <thead>\n",
       "    <tr style=\"text-align: right;\">\n",
       "      <th></th>\n",
       "      <th>file</th>\n",
       "      <th>rect</th>\n",
       "      <th>face_descriptor</th>\n",
       "      <th>group</th>\n",
       "    </tr>\n",
       "  </thead>\n",
       "  <tbody>\n",
       "    <tr>\n",
       "      <th>0</th>\n",
       "      <td>D://Data\\video\\8.29张江人工智能岛\\29号\\摄像迟\\BPAV\\CLPR\\4...</td>\n",
       "      <td>[925, 365, 73, 73]</td>\n",
       "      <td>[-0.10779663920402527, 0.10153406113386154, 0....</td>\n",
       "      <td>110</td>\n",
       "    </tr>\n",
       "    <tr>\n",
       "      <th>1</th>\n",
       "      <td>D://Data\\video\\8.29张江人工智能岛\\29号\\摄像迟\\BPAV\\CLPR\\4...</td>\n",
       "      <td>[813, 362, 87, 87]</td>\n",
       "      <td>[-0.060471706092357635, 0.036922015249729156, ...</td>\n",
       "      <td>41</td>\n",
       "    </tr>\n",
       "    <tr>\n",
       "      <th>2</th>\n",
       "      <td>D://Data\\video\\8.29张江人工智能岛\\29号\\摄像迟\\BPAV\\CLPR\\4...</td>\n",
       "      <td>[369, 231, 126, 125]</td>\n",
       "      <td>[-0.09775551408529282, 0.07954566180706024, 0....</td>\n",
       "      <td>110</td>\n",
       "    </tr>\n",
       "    <tr>\n",
       "      <th>3</th>\n",
       "      <td>D://Data\\video\\8.29张江人工智能岛\\29号\\摄像迟\\BPAV\\CLPR\\4...</td>\n",
       "      <td>[353, 238, 105, 105]</td>\n",
       "      <td>[-0.09728292375802994, 0.04980679973959923, 0....</td>\n",
       "      <td>110</td>\n",
       "    </tr>\n",
       "    <tr>\n",
       "      <th>4</th>\n",
       "      <td>D://Data\\video\\8.29张江人工智能岛\\29号\\摄像迟\\BPAV\\CLPR\\4...</td>\n",
       "      <td>[839, 176, 126, 125]</td>\n",
       "      <td>[-0.003757824655622244, 0.09656134992837906, 0...</td>\n",
       "      <td>83</td>\n",
       "    </tr>\n",
       "  </tbody>\n",
       "</table>\n",
       "</div>"
      ],
      "text/plain": [
       "                                                file                  rect  \\\n",
       "0  D://Data\\video\\8.29张江人工智能岛\\29号\\摄像迟\\BPAV\\CLPR\\4...    [925, 365, 73, 73]   \n",
       "1  D://Data\\video\\8.29张江人工智能岛\\29号\\摄像迟\\BPAV\\CLPR\\4...    [813, 362, 87, 87]   \n",
       "2  D://Data\\video\\8.29张江人工智能岛\\29号\\摄像迟\\BPAV\\CLPR\\4...  [369, 231, 126, 125]   \n",
       "3  D://Data\\video\\8.29张江人工智能岛\\29号\\摄像迟\\BPAV\\CLPR\\4...  [353, 238, 105, 105]   \n",
       "4  D://Data\\video\\8.29张江人工智能岛\\29号\\摄像迟\\BPAV\\CLPR\\4...  [839, 176, 126, 125]   \n",
       "\n",
       "                                     face_descriptor  group  \n",
       "0  [-0.10779663920402527, 0.10153406113386154, 0....    110  \n",
       "1  [-0.060471706092357635, 0.036922015249729156, ...     41  \n",
       "2  [-0.09775551408529282, 0.07954566180706024, 0....    110  \n",
       "3  [-0.09728292375802994, 0.04980679973959923, 0....    110  \n",
       "4  [-0.003757824655622244, 0.09656134992837906, 0...     83  "
      ]
     },
     "execution_count": 23,
     "metadata": {},
     "output_type": "execute_result"
    }
   ],
   "source": [
    "data.head()"
   ]
  },
  {
   "cell_type": "code",
   "execution_count": 17,
   "metadata": {},
   "outputs": [],
   "source": [
    "matrix = []\n",
    "with open('matrix.txt') as f:\n",
    "    for line in f:\n",
    "        t = []\n",
    "        for d in line.split():\n",
    "            t.append(float(d))\n",
    "        matrix.append(t)"
   ]
  },
  {
   "cell_type": "code",
   "execution_count": 22,
   "metadata": {},
   "outputs": [
    {
     "data": {
      "text/plain": [
       "28304"
      ]
     },
     "execution_count": 22,
     "metadata": {},
     "output_type": "execute_result"
    }
   ],
   "source": []
  },
  {
   "cell_type": "code",
   "execution_count": null,
   "metadata": {},
   "outputs": [],
   "source": []
  }
 ],
 "metadata": {
  "kernelspec": {
   "display_name": "Python 3",
   "language": "python",
   "name": "python3"
  },
  "language_info": {
   "codemirror_mode": {
    "name": "ipython",
    "version": 3
   },
   "file_extension": ".py",
   "mimetype": "text/x-python",
   "name": "python",
   "nbconvert_exporter": "python",
   "pygments_lexer": "ipython3",
   "version": "3.7.0"
  }
 },
 "nbformat": 4,
 "nbformat_minor": 2
}
